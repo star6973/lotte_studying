{
 "cells": [
  {
   "cell_type": "code",
   "execution_count": 1,
   "metadata": {},
   "outputs": [],
   "source": [
    "from PIL import Image\n",
    "import os\n",
    "import matplotlib.pyplot as plt"
   ]
  },
  {
   "cell_type": "code",
   "execution_count": 2,
   "metadata": {},
   "outputs": [],
   "source": [
    "trPath = os.path.join(os.getcwd(), 'Crop_Data/train')\n",
    "valPath = os.path.join(os.getcwd(), 'Crop_Data/val')\n",
    "tePath = os.path.join(os.getcwd(), 'Crop_Data/test')\n",
    "\n",
    "def make_folder(directory):\n",
    "    if not os.path.isdir(directory):\n",
    "        os.mkdir(directory)\n",
    "\n",
    "save_trPath = os.path.join(os.getcwd(), 'Labeld_Crop_Data/train')\n",
    "save_valPath = os.path.join(os.getcwd(), 'Labeld_Crop_Data/val')\n",
    "save_tePath = os.path.join(os.getcwd(), 'Labeld_Crop_Data/test')\n",
    "\n",
    "make_folder(save_trPath)\n",
    "make_folder(save_valPath)\n",
    "make_folder(save_tePath)"
   ]
  },
  {
   "cell_type": "code",
   "execution_count": 3,
   "metadata": {},
   "outputs": [],
   "source": [
    "label_classes = ['ID_gum', 'buttering', 'couque_coffee', 'chocopie', 'cidar', 'couque_white', 'coke', 'diget_ori', 'diget_choco', 'gumi_gumi', 'homerunball', 'jjolbyung_noodle', 'juicyfresh', 'jjolbyung_ori', 'spearmint', 'squid_peanut', 'samdasu', 'tuna', 'toreta', 'vita500', 'welchs', 'zec']"
   ]
  },
  {
   "cell_type": "code",
   "execution_count": 4,
   "metadata": {},
   "outputs": [
    {
     "name": "stdout",
     "output_type": "stream",
     "text": [
      "{0: 'ID_gum', 1: 'buttering', 2: 'couque_coffee', 3: 'chocopie', 4: 'cidar', 5: 'couque_white', 6: 'coke', 7: 'diget_ori', 8: 'diget_choco', 9: 'gumi_gumi', 10: 'homerunball', 11: 'jjolbyung_noodle', 12: 'juicyfresh', 13: 'jjolbyung_ori', 14: 'spearmint', 15: 'squid_peanut', 16: 'samdasu', 17: 'tuna', 18: 'toreta', 19: 'vita500', 20: 'welchs', 21: 'zec'}\n"
     ]
    }
   ],
   "source": [
    "label_dict = dict()\n",
    "for i, label in enumerate(label_classes):\n",
    "    label_dict[i] = label\n",
    "\n",
    "print(label_dict)"
   ]
  },
  {
   "cell_type": "code",
   "execution_count": 5,
   "metadata": {},
   "outputs": [],
   "source": [
    "for tag in label_dict.keys():\n",
    "    trLabel = os.path.join(save_trPath, str(tag))\n",
    "    valLabel = os.path.join(save_valPath, str(tag))\n",
    "    teLabel = os.path.join(save_tePath, str(tag))\n",
    "    make_folder(trLabel)\n",
    "    make_folder(valLabel)\n",
    "    make_folder(teLabel)"
   ]
  },
  {
   "cell_type": "code",
   "execution_count": 6,
   "metadata": {},
   "outputs": [],
   "source": [
    "train_list = os.listdir(trPath)\n",
    "val_list = os.listdir(valPath)\n",
    "test_list = os.listdir(tePath)"
   ]
  },
  {
   "cell_type": "code",
   "execution_count": 7,
   "metadata": {},
   "outputs": [
    {
     "name": "stdout",
     "output_type": "stream",
     "text": [
      "['buttering', 'chocopie', 'cidar', 'coke', 'couque_coffee', 'couque_white', 'diget_choco', 'diget_ori', 'gumi_gumi', 'homerunball', 'ID_gum', 'jjolbyung_noodle', 'jjolbyung_ori', 'juicyfresh', 'samdasu', 'spearmint', 'squid_peanut', 'toreta', 'tuna', 'vita500', 'welchs', 'zec']\n",
      "\n",
      "['buttering', 'chocopie', 'cidar', 'coke', 'couque_coffee', 'couque_white', 'diget_choco', 'diget_ori', 'gumi_gumi', 'homerunball', 'ID_gum', 'jjolbyung_noodle', 'jjolbyung_ori', 'juicyfresh', 'samdasu', 'spearmint', 'squid_peanut', 'toreta', 'tuna', 'vita500', 'welchs', 'zec']\n",
      "\n",
      "['buttering', 'chocopie', 'cidar', 'coke', 'couque_coffee', 'couque_white', 'diget_choco', 'diget_ori', 'gumi_gumi', 'homerunball', 'ID_gum', 'jjolbyung_noodle', 'jjolbyung_ori', 'juicyfresh', 'samdasu', 'spearmint', 'squid_peanut', 'toreta', 'tuna', 'vita500', 'welchs', 'zec']\n"
     ]
    }
   ],
   "source": [
    "print(train_list)\n",
    "print(\"\")\n",
    "print(val_list)\n",
    "print(\"\")\n",
    "print(test_list)"
   ]
  },
  {
   "cell_type": "code",
   "execution_count": 8,
   "metadata": {},
   "outputs": [],
   "source": [
    "for li in train_list:\n",
    "    fDir = os.listdir(os.path.join(trPath, li))\n",
    "    imgPath = os.path.join(trPath, li)\n",
    "    key = [key for key, value in label_dict.items() if value == li][0]\n",
    "    savePath = os.path.join(save_trPath, str(key))\n",
    "    \n",
    "    for file in fDir:\n",
    "        img = Image.open(os.path.join(imgPath, file))\n",
    "        img.save(os.path.join(savePath, file))"
   ]
  },
  {
   "cell_type": "code",
   "execution_count": 9,
   "metadata": {},
   "outputs": [],
   "source": [
    "for li in val_list:\n",
    "    fDir = os.listdir(os.path.join(valPath, li))\n",
    "    imgPath = os.path.join(valPath, li)\n",
    "    key = [key for key, value in label_dict.items() if value == li][0]\n",
    "    savePath = os.path.join(save_valPath, str(key))\n",
    "    \n",
    "    for file in fDir:\n",
    "        img = Image.open(os.path.join(imgPath, file))\n",
    "        img.save(os.path.join(savePath, file))"
   ]
  },
  {
   "cell_type": "code",
   "execution_count": 10,
   "metadata": {},
   "outputs": [],
   "source": [
    "for li in test_list:\n",
    "    fDir = os.listdir(os.path.join(tePath, li))\n",
    "    imgPath = os.path.join(tePath, li)\n",
    "\n",
    "    key = [key for key, value in label_dict.items() if value == li][0]\n",
    "    savePath = os.path.join(save_tePath, str(key))\n",
    "    \n",
    "    for file in fDir:\n",
    "        img = Image.open(os.path.join(imgPath, file))\n",
    "        img.save(os.path.join(savePath, file))"
   ]
  }
 ],
 "metadata": {
  "kernelspec": {
   "display_name": "Python 3",
   "language": "python",
   "name": "python3"
  },
  "language_info": {
   "codemirror_mode": {
    "name": "ipython",
    "version": 3
   },
   "file_extension": ".py",
   "mimetype": "text/x-python",
   "name": "python",
   "nbconvert_exporter": "python",
   "pygments_lexer": "ipython3",
   "version": "3.6.10"
  }
 },
 "nbformat": 4,
 "nbformat_minor": 4
}
