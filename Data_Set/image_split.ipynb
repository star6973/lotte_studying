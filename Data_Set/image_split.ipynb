{
 "cells": [
  {
   "cell_type": "code",
   "execution_count": 113,
   "metadata": {},
   "outputs": [],
   "source": [
    "from PIL import Image\n",
    "import os\n",
    "import pandas as pd\n",
    "import matplotlib.pyplot as plt"
   ]
  },
  {
   "cell_type": "markdown",
   "metadata": {},
   "source": [
    "## CSV Split"
   ]
  },
  {
   "cell_type": "code",
   "execution_count": 114,
   "metadata": {},
   "outputs": [],
   "source": [
    "data = pd.read_csv(\"data.csv\")\n",
    "image_ids = list(data['class_id'].unique())"
   ]
  },
  {
   "cell_type": "code",
   "execution_count": 115,
   "metadata": {},
   "outputs": [
    {
     "name": "stdout",
     "output_type": "stream",
     "text": [
      "['00337.jpg', '01230.jpg', '00138.jpg', '01445.jpg', '00355.jpg', '01033.jpg', '01493.jpg', '01085.jpg', '00664.jpg', '01188.jpg']\n"
     ]
    }
   ],
   "source": [
    "import random\n",
    "\n",
    "random.shuffle(image_ids)\n",
    "print(image_ids[:10])"
   ]
  },
  {
   "cell_type": "code",
   "execution_count": 116,
   "metadata": {},
   "outputs": [],
   "source": [
    "train_ids = image_ids[:1602]\n",
    "test_ids = image_ids[1602:]\n",
    "\n",
    "train_ids.sort()\n",
    "test_ids.sort()"
   ]
  },
  {
   "cell_type": "code",
   "execution_count": 117,
   "metadata": {},
   "outputs": [],
   "source": [
    "train_df = data[data['class_id'].isin(train_ids)]\n",
    "test_df = data[data['class_id'].isin(test_ids)]\n",
    "\n",
    "train_df.to_csv(\"train.csv\", index=False)\n",
    "test_df.to_csv(\"test.csv\", index=False)"
   ]
  },
  {
   "cell_type": "markdown",
   "metadata": {},
   "source": [
    "## Image Split"
   ]
  },
  {
   "cell_type": "code",
   "execution_count": 118,
   "metadata": {},
   "outputs": [],
   "source": [
    "image_path = os.path.join(os.getcwd(), 'image')\n",
    "\n",
    "def make_folder(directory):\n",
    "    if not os.path.isdir(directory):\n",
    "        os.mkdir(directory)\n",
    "\n",
    "save_trPath = os.path.join(os.getcwd(), 'image_split\\\\train')\n",
    "save_tePath = os.path.join(os.getcwd(), 'image_split\\\\test')\n",
    "\n",
    "make_folder(save_trPath)\n",
    "make_folder(save_tePath)"
   ]
  },
  {
   "cell_type": "code",
   "execution_count": 119,
   "metadata": {},
   "outputs": [],
   "source": [
    "data_list = os.listdir(image_path)\n",
    "\n",
    "for data in train_ids:\n",
    "    imgPath = os.path.join(image_path, data)\n",
    "    img = Image.open(imgPath)\n",
    "    img.save(os.path.join(save_trPath, data))\n",
    "\n",
    "for data in test_ids:\n",
    "    imgPath = os.path.join(image_path, data)\n",
    "    img = Image.open(imgPath)\n",
    "    img.save(os.path.join(save_tePath, data))"
   ]
  }
 ],
 "metadata": {
  "kernelspec": {
   "display_name": "Python 3",
   "language": "python",
   "name": "python3"
  },
  "language_info": {
   "codemirror_mode": {
    "name": "ipython",
    "version": 3
   },
   "file_extension": ".py",
   "mimetype": "text/x-python",
   "name": "python",
   "nbconvert_exporter": "python",
   "pygments_lexer": "ipython3",
   "version": "3.6.10"
  }
 },
 "nbformat": 4,
 "nbformat_minor": 4
}
