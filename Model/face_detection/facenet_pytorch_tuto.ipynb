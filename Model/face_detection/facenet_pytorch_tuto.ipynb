{
  "nbformat": 4,
  "nbformat_minor": 0,
  "metadata": {
    "colab": {
      "name": "facenet-pytorch-tuto.ipynb",
      "provenance": [],
      "collapsed_sections": []
    },
    "kernelspec": {
      "name": "python3",
      "display_name": "Python 3"
    },
    "accelerator": "GPU",
    "widgets": {
      "application/vnd.jupyter.widget-state+json": {
        "ce07203703214e32bcd18b5b98102b39": {
          "model_module": "@jupyter-widgets/controls",
          "model_name": "HBoxModel",
          "state": {
            "_view_name": "HBoxView",
            "_dom_classes": [],
            "_model_name": "HBoxModel",
            "_view_module": "@jupyter-widgets/controls",
            "_model_module_version": "1.5.0",
            "_view_count": null,
            "_view_module_version": "1.5.0",
            "box_style": "",
            "layout": "IPY_MODEL_f406060b6e234438931a275da79fbe9d",
            "_model_module": "@jupyter-widgets/controls",
            "children": [
              "IPY_MODEL_5ca9574853a24780b4f8f3b6db3eaebf",
              "IPY_MODEL_8b73b0c497d84151b4794f886b510a8e"
            ]
          }
        },
        "f406060b6e234438931a275da79fbe9d": {
          "model_module": "@jupyter-widgets/base",
          "model_name": "LayoutModel",
          "state": {
            "_view_name": "LayoutView",
            "grid_template_rows": null,
            "right": null,
            "justify_content": null,
            "_view_module": "@jupyter-widgets/base",
            "overflow": null,
            "_model_module_version": "1.2.0",
            "_view_count": null,
            "flex_flow": null,
            "width": null,
            "min_width": null,
            "border": null,
            "align_items": null,
            "bottom": null,
            "_model_module": "@jupyter-widgets/base",
            "top": null,
            "grid_column": null,
            "overflow_y": null,
            "overflow_x": null,
            "grid_auto_flow": null,
            "grid_area": null,
            "grid_template_columns": null,
            "flex": null,
            "_model_name": "LayoutModel",
            "justify_items": null,
            "grid_row": null,
            "max_height": null,
            "align_content": null,
            "visibility": null,
            "align_self": null,
            "height": null,
            "min_height": null,
            "padding": null,
            "grid_auto_rows": null,
            "grid_gap": null,
            "max_width": null,
            "order": null,
            "_view_module_version": "1.2.0",
            "grid_template_areas": null,
            "object_position": null,
            "object_fit": null,
            "grid_auto_columns": null,
            "margin": null,
            "display": null,
            "left": null
          }
        },
        "5ca9574853a24780b4f8f3b6db3eaebf": {
          "model_module": "@jupyter-widgets/controls",
          "model_name": "FloatProgressModel",
          "state": {
            "_view_name": "ProgressView",
            "style": "IPY_MODEL_3e8e4112764247d389cf98e1bf21de2e",
            "_dom_classes": [],
            "description": "100%",
            "_model_name": "FloatProgressModel",
            "bar_style": "success",
            "max": 111898327,
            "_view_module": "@jupyter-widgets/controls",
            "_model_module_version": "1.5.0",
            "value": 111898327,
            "_view_count": null,
            "_view_module_version": "1.5.0",
            "orientation": "horizontal",
            "min": 0,
            "description_tooltip": null,
            "_model_module": "@jupyter-widgets/controls",
            "layout": "IPY_MODEL_cc6c8fef9014419ab898ce05a64438a2"
          }
        },
        "8b73b0c497d84151b4794f886b510a8e": {
          "model_module": "@jupyter-widgets/controls",
          "model_name": "HTMLModel",
          "state": {
            "_view_name": "HTMLView",
            "style": "IPY_MODEL_bebece6d382e4e2683821a5dde1d75f2",
            "_dom_classes": [],
            "description": "",
            "_model_name": "HTMLModel",
            "placeholder": "​",
            "_view_module": "@jupyter-widgets/controls",
            "_model_module_version": "1.5.0",
            "value": " 107M/107M [00:24&lt;00:00, 4.55MB/s]",
            "_view_count": null,
            "_view_module_version": "1.5.0",
            "description_tooltip": null,
            "_model_module": "@jupyter-widgets/controls",
            "layout": "IPY_MODEL_094dd80fdcd64079a0bddd2981b35665"
          }
        },
        "3e8e4112764247d389cf98e1bf21de2e": {
          "model_module": "@jupyter-widgets/controls",
          "model_name": "ProgressStyleModel",
          "state": {
            "_view_name": "StyleView",
            "_model_name": "ProgressStyleModel",
            "description_width": "initial",
            "_view_module": "@jupyter-widgets/base",
            "_model_module_version": "1.5.0",
            "_view_count": null,
            "_view_module_version": "1.2.0",
            "bar_color": null,
            "_model_module": "@jupyter-widgets/controls"
          }
        },
        "cc6c8fef9014419ab898ce05a64438a2": {
          "model_module": "@jupyter-widgets/base",
          "model_name": "LayoutModel",
          "state": {
            "_view_name": "LayoutView",
            "grid_template_rows": null,
            "right": null,
            "justify_content": null,
            "_view_module": "@jupyter-widgets/base",
            "overflow": null,
            "_model_module_version": "1.2.0",
            "_view_count": null,
            "flex_flow": null,
            "width": null,
            "min_width": null,
            "border": null,
            "align_items": null,
            "bottom": null,
            "_model_module": "@jupyter-widgets/base",
            "top": null,
            "grid_column": null,
            "overflow_y": null,
            "overflow_x": null,
            "grid_auto_flow": null,
            "grid_area": null,
            "grid_template_columns": null,
            "flex": null,
            "_model_name": "LayoutModel",
            "justify_items": null,
            "grid_row": null,
            "max_height": null,
            "align_content": null,
            "visibility": null,
            "align_self": null,
            "height": null,
            "min_height": null,
            "padding": null,
            "grid_auto_rows": null,
            "grid_gap": null,
            "max_width": null,
            "order": null,
            "_view_module_version": "1.2.0",
            "grid_template_areas": null,
            "object_position": null,
            "object_fit": null,
            "grid_auto_columns": null,
            "margin": null,
            "display": null,
            "left": null
          }
        },
        "bebece6d382e4e2683821a5dde1d75f2": {
          "model_module": "@jupyter-widgets/controls",
          "model_name": "DescriptionStyleModel",
          "state": {
            "_view_name": "StyleView",
            "_model_name": "DescriptionStyleModel",
            "description_width": "",
            "_view_module": "@jupyter-widgets/base",
            "_model_module_version": "1.5.0",
            "_view_count": null,
            "_view_module_version": "1.2.0",
            "_model_module": "@jupyter-widgets/controls"
          }
        },
        "094dd80fdcd64079a0bddd2981b35665": {
          "model_module": "@jupyter-widgets/base",
          "model_name": "LayoutModel",
          "state": {
            "_view_name": "LayoutView",
            "grid_template_rows": null,
            "right": null,
            "justify_content": null,
            "_view_module": "@jupyter-widgets/base",
            "overflow": null,
            "_model_module_version": "1.2.0",
            "_view_count": null,
            "flex_flow": null,
            "width": null,
            "min_width": null,
            "border": null,
            "align_items": null,
            "bottom": null,
            "_model_module": "@jupyter-widgets/base",
            "top": null,
            "grid_column": null,
            "overflow_y": null,
            "overflow_x": null,
            "grid_auto_flow": null,
            "grid_area": null,
            "grid_template_columns": null,
            "flex": null,
            "_model_name": "LayoutModel",
            "justify_items": null,
            "grid_row": null,
            "max_height": null,
            "align_content": null,
            "visibility": null,
            "align_self": null,
            "height": null,
            "min_height": null,
            "padding": null,
            "grid_auto_rows": null,
            "grid_gap": null,
            "max_width": null,
            "order": null,
            "_view_module_version": "1.2.0",
            "grid_template_areas": null,
            "object_position": null,
            "object_fit": null,
            "grid_auto_columns": null,
            "margin": null,
            "display": null,
            "left": null
          }
        }
      }
    }
  },
  "cells": [
    {
      "cell_type": "markdown",
      "metadata": {
        "id": "Eh0d1vBZpmVg"
      },
      "source": [
        "https://github.com/timesler/facenet-pytorch/blob/master/examples/infer.ipynb"
      ]
    },
    {
      "cell_type": "code",
      "metadata": {
        "id": "nDv-E9ZSl482",
        "outputId": "31babe66-d7a8-4858-fb2d-6c0dc04b5758",
        "colab": {
          "base_uri": "https://localhost:8080/",
          "height": 71
        }
      },
      "source": [
        "ls"
      ],
      "execution_count": 10,
      "outputs": [
        {
          "output_type": "stream",
          "text": [
            "\u001b[0m\u001b[01;34mbuild\u001b[0m/       \u001b[01;34mdependencies\u001b[0m/  \u001b[01;34mfacenet_pytorch.egg-info\u001b[0m/  LICENSE.md  setup.py\n",
            "codecov.yml  \u001b[01;34mdist\u001b[0m/          facenet-pytorch.ipynb      \u001b[01;34mmodels\u001b[0m/     \u001b[01;34mtests\u001b[0m/\n",
            "\u001b[01;34mdata\u001b[0m/        \u001b[01;34mexamples\u001b[0m/      __init__.py                README.md\n"
          ],
          "name": "stdout"
        }
      ]
    },
    {
      "cell_type": "code",
      "metadata": {
        "id": "Akgjepl2lJzh",
        "outputId": "d085b513-107d-4581-d87d-7c3ce40ea383",
        "colab": {
          "base_uri": "https://localhost:8080/",
          "height": 35
        }
      },
      "source": [
        "cd /content/drive/My Drive/Colab_Notebooks/facenet_pytorch"
      ],
      "execution_count": 9,
      "outputs": [
        {
          "output_type": "stream",
          "text": [
            "/content/drive/My Drive/Colab_Notebooks/facenet_pytorch\n"
          ],
          "name": "stdout"
        }
      ]
    },
    {
      "cell_type": "code",
      "metadata": {
        "id": "s_f5cCbelO6M",
        "outputId": "70edc0b6-2b9a-4f34-816a-0e2643e282f0",
        "colab": {
          "base_uri": "https://localhost:8080/",
          "height": 1000
        }
      },
      "source": [
        "!python setup.py install"
      ],
      "execution_count": 4,
      "outputs": [
        {
          "output_type": "stream",
          "text": [
            "running install\n",
            "running bdist_egg\n",
            "running egg_info\n",
            "writing facenet_pytorch.egg-info/PKG-INFO\n",
            "writing dependency_links to facenet_pytorch.egg-info/dependency_links.txt\n",
            "writing requirements to facenet_pytorch.egg-info/requires.txt\n",
            "writing top-level names to facenet_pytorch.egg-info/top_level.txt\n",
            "package init file './models/__init__.py' not found (or not a regular file)\n",
            "package init file './models/utils/__init__.py' not found (or not a regular file)\n",
            "package init file './data/__init__.py' not found (or not a regular file)\n",
            "writing manifest file 'facenet_pytorch.egg-info/SOURCES.txt'\n",
            "installing library code to build/bdist.linux-x86_64/egg\n",
            "running install_lib\n",
            "running build_py\n",
            "creating build/bdist.linux-x86_64/egg\n",
            "creating build/bdist.linux-x86_64/egg/facenet_pytorch\n",
            "copying build/lib/facenet_pytorch/__init__.py -> build/bdist.linux-x86_64/egg/facenet_pytorch\n",
            "creating build/bdist.linux-x86_64/egg/facenet_pytorch/models\n",
            "copying build/lib/facenet_pytorch/models/inception_resnet_v1.py -> build/bdist.linux-x86_64/egg/facenet_pytorch/models\n",
            "copying build/lib/facenet_pytorch/models/mtcnn.py -> build/bdist.linux-x86_64/egg/facenet_pytorch/models\n",
            "creating build/bdist.linux-x86_64/egg/facenet_pytorch/models/utils\n",
            "copying build/lib/facenet_pytorch/models/utils/training.py -> build/bdist.linux-x86_64/egg/facenet_pytorch/models/utils\n",
            "copying build/lib/facenet_pytorch/models/utils/tensorflow2pytorch.py -> build/bdist.linux-x86_64/egg/facenet_pytorch/models/utils\n",
            "copying build/lib/facenet_pytorch/models/utils/detect_face.py -> build/bdist.linux-x86_64/egg/facenet_pytorch/models/utils\n",
            "copying build/lib/facenet_pytorch/models/utils/download.py -> build/bdist.linux-x86_64/egg/facenet_pytorch/models/utils\n",
            "creating build/bdist.linux-x86_64/egg/facenet_pytorch/data\n",
            "copying build/lib/facenet_pytorch/data/rnet.pt -> build/bdist.linux-x86_64/egg/facenet_pytorch/data\n",
            "copying build/lib/facenet_pytorch/data/onet.pt -> build/bdist.linux-x86_64/egg/facenet_pytorch/data\n",
            "copying build/lib/facenet_pytorch/data/pnet.pt -> build/bdist.linux-x86_64/egg/facenet_pytorch/data\n",
            "byte-compiling build/bdist.linux-x86_64/egg/facenet_pytorch/__init__.py to __init__.cpython-36.pyc\n",
            "byte-compiling build/bdist.linux-x86_64/egg/facenet_pytorch/models/inception_resnet_v1.py to inception_resnet_v1.cpython-36.pyc\n",
            "byte-compiling build/bdist.linux-x86_64/egg/facenet_pytorch/models/mtcnn.py to mtcnn.cpython-36.pyc\n",
            "byte-compiling build/bdist.linux-x86_64/egg/facenet_pytorch/models/utils/training.py to training.cpython-36.pyc\n",
            "byte-compiling build/bdist.linux-x86_64/egg/facenet_pytorch/models/utils/tensorflow2pytorch.py to tensorflow2pytorch.cpython-36.pyc\n",
            "byte-compiling build/bdist.linux-x86_64/egg/facenet_pytorch/models/utils/detect_face.py to detect_face.cpython-36.pyc\n",
            "byte-compiling build/bdist.linux-x86_64/egg/facenet_pytorch/models/utils/download.py to download.cpython-36.pyc\n",
            "creating build/bdist.linux-x86_64/egg/EGG-INFO\n",
            "copying facenet_pytorch.egg-info/PKG-INFO -> build/bdist.linux-x86_64/egg/EGG-INFO\n",
            "copying facenet_pytorch.egg-info/SOURCES.txt -> build/bdist.linux-x86_64/egg/EGG-INFO\n",
            "copying facenet_pytorch.egg-info/dependency_links.txt -> build/bdist.linux-x86_64/egg/EGG-INFO\n",
            "copying facenet_pytorch.egg-info/requires.txt -> build/bdist.linux-x86_64/egg/EGG-INFO\n",
            "copying facenet_pytorch.egg-info/top_level.txt -> build/bdist.linux-x86_64/egg/EGG-INFO\n",
            "zip_safe flag not set; analyzing archive contents...\n",
            "facenet_pytorch.models.__pycache__.mtcnn.cpython-36: module references __file__\n",
            "creating 'dist/facenet_pytorch-2.5.0-py3.6.egg' and adding 'build/bdist.linux-x86_64/egg' to it\n",
            "removing 'build/bdist.linux-x86_64/egg' (and everything under it)\n",
            "Processing facenet_pytorch-2.5.0-py3.6.egg\n",
            "creating /usr/local/lib/python3.6/dist-packages/facenet_pytorch-2.5.0-py3.6.egg\n",
            "Extracting facenet_pytorch-2.5.0-py3.6.egg to /usr/local/lib/python3.6/dist-packages\n",
            "Adding facenet-pytorch 2.5.0 to easy-install.pth file\n",
            "\n",
            "Installed /usr/local/lib/python3.6/dist-packages/facenet_pytorch-2.5.0-py3.6.egg\n",
            "Processing dependencies for facenet-pytorch==2.5.0\n",
            "Searching for Pillow==7.0.0\n",
            "Best match: Pillow 7.0.0\n",
            "Adding Pillow 7.0.0 to easy-install.pth file\n",
            "\n",
            "Using /usr/local/lib/python3.6/dist-packages\n",
            "Searching for torchvision==0.7.0+cu101\n",
            "Best match: torchvision 0.7.0+cu101\n",
            "Adding torchvision 0.7.0+cu101 to easy-install.pth file\n",
            "\n",
            "Using /usr/local/lib/python3.6/dist-packages\n",
            "Searching for requests==2.23.0\n",
            "Best match: requests 2.23.0\n",
            "Adding requests 2.23.0 to easy-install.pth file\n",
            "\n",
            "Using /usr/local/lib/python3.6/dist-packages\n",
            "Searching for numpy==1.18.5\n",
            "Best match: numpy 1.18.5\n",
            "Adding numpy 1.18.5 to easy-install.pth file\n",
            "Installing f2py script to /usr/local/bin\n",
            "Installing f2py3 script to /usr/local/bin\n",
            "Installing f2py3.6 script to /usr/local/bin\n",
            "\n",
            "Using /usr/local/lib/python3.6/dist-packages\n",
            "Searching for torch==1.6.0+cu101\n",
            "Best match: torch 1.6.0+cu101\n",
            "Adding torch 1.6.0+cu101 to easy-install.pth file\n",
            "Installing convert-caffe2-to-onnx script to /usr/local/bin\n",
            "Installing convert-onnx-to-caffe2 script to /usr/local/bin\n",
            "\n",
            "Using /usr/local/lib/python3.6/dist-packages\n",
            "Searching for chardet==3.0.4\n",
            "Best match: chardet 3.0.4\n",
            "Adding chardet 3.0.4 to easy-install.pth file\n",
            "Installing chardetect script to /usr/local/bin\n",
            "\n",
            "Using /usr/local/lib/python3.6/dist-packages\n",
            "Searching for idna==2.10\n",
            "Best match: idna 2.10\n",
            "Adding idna 2.10 to easy-install.pth file\n",
            "\n",
            "Using /usr/local/lib/python3.6/dist-packages\n",
            "Searching for urllib3==1.24.3\n",
            "Best match: urllib3 1.24.3\n",
            "Adding urllib3 1.24.3 to easy-install.pth file\n",
            "\n",
            "Using /usr/local/lib/python3.6/dist-packages\n",
            "Searching for certifi==2020.6.20\n",
            "Best match: certifi 2020.6.20\n",
            "Adding certifi 2020.6.20 to easy-install.pth file\n",
            "\n",
            "Using /usr/local/lib/python3.6/dist-packages\n",
            "Searching for future==0.16.0\n",
            "Best match: future 0.16.0\n",
            "Adding future 0.16.0 to easy-install.pth file\n",
            "Installing futurize script to /usr/local/bin\n",
            "Installing pasteurize script to /usr/local/bin\n",
            "\n",
            "Using /usr/local/lib/python3.6/dist-packages\n",
            "Finished processing dependencies for facenet-pytorch==2.5.0\n"
          ],
          "name": "stdout"
        }
      ]
    },
    {
      "cell_type": "code",
      "metadata": {
        "id": "ddE8GXi-j3C3",
        "outputId": "7143865e-5beb-42b0-a437-baa2bcc20dae",
        "colab": {
          "base_uri": "https://localhost:8080/",
          "height": 307
        }
      },
      "source": [
        "!pip install facenet-pytorch"
      ],
      "execution_count": 1,
      "outputs": [
        {
          "output_type": "stream",
          "text": [
            "Collecting facenet-pytorch\n",
            "\u001b[?25l  Downloading https://files.pythonhosted.org/packages/00/64/73d76f6c944b6abfdacecc37f00cb9fbb7686d899981d587ba45d1c6904d/facenet_pytorch-2.5.0-py3-none-any.whl (1.9MB)\n",
            "\u001b[K     |████████████████████████████████| 1.9MB 2.6MB/s \n",
            "\u001b[?25hRequirement already satisfied: requests in /usr/local/lib/python3.6/dist-packages (from facenet-pytorch) (2.23.0)\n",
            "Requirement already satisfied: pillow in /usr/local/lib/python3.6/dist-packages (from facenet-pytorch) (7.0.0)\n",
            "Requirement already satisfied: torchvision in /usr/local/lib/python3.6/dist-packages (from facenet-pytorch) (0.7.0+cu101)\n",
            "Requirement already satisfied: numpy in /usr/local/lib/python3.6/dist-packages (from facenet-pytorch) (1.18.5)\n",
            "Requirement already satisfied: urllib3!=1.25.0,!=1.25.1,<1.26,>=1.21.1 in /usr/local/lib/python3.6/dist-packages (from requests->facenet-pytorch) (1.24.3)\n",
            "Requirement already satisfied: chardet<4,>=3.0.2 in /usr/local/lib/python3.6/dist-packages (from requests->facenet-pytorch) (3.0.4)\n",
            "Requirement already satisfied: idna<3,>=2.5 in /usr/local/lib/python3.6/dist-packages (from requests->facenet-pytorch) (2.10)\n",
            "Requirement already satisfied: certifi>=2017.4.17 in /usr/local/lib/python3.6/dist-packages (from requests->facenet-pytorch) (2020.6.20)\n",
            "Requirement already satisfied: torch==1.6.0 in /usr/local/lib/python3.6/dist-packages (from torchvision->facenet-pytorch) (1.6.0+cu101)\n",
            "Requirement already satisfied: future in /usr/local/lib/python3.6/dist-packages (from torch==1.6.0->torchvision->facenet-pytorch) (0.16.0)\n",
            "Installing collected packages: facenet-pytorch\n",
            "Successfully installed facenet-pytorch-2.5.0\n"
          ],
          "name": "stdout"
        }
      ]
    },
    {
      "cell_type": "code",
      "metadata": {
        "id": "M0H3yOHmkxic"
      },
      "source": [
        "from facenet_pytorch import MTCNN, InceptionResnetV1\n",
        "import torch\n",
        "from torch.utils.data import DataLoader\n",
        "from torchvision import datasets\n",
        "import numpy as np\n",
        "import pandas as pd\n",
        "import os"
      ],
      "execution_count": 3,
      "outputs": []
    },
    {
      "cell_type": "code",
      "metadata": {
        "id": "FIteZznDk7ir",
        "outputId": "d6ca36a8-034d-4936-bc6e-025219792b69",
        "colab": {
          "base_uri": "https://localhost:8080/",
          "height": 35
        }
      },
      "source": [
        "device = torch.device('cuda:0' if torch.cuda.is_available() else 'cpu')\n",
        "print('Running on device: {}'.format(device))"
      ],
      "execution_count": 4,
      "outputs": [
        {
          "output_type": "stream",
          "text": [
            "Running on device: cuda:0\n"
          ],
          "name": "stdout"
        }
      ]
    },
    {
      "cell_type": "markdown",
      "metadata": {
        "id": "mdnRBvaSo6zY"
      },
      "source": [
        "## MTCNN 모듈 정의\n",
        "\n",
        "설명을 위해 기본 매개 변수가 표시되지만 필요하지는 않습니다. MTCNN은 신경망 및 기타 코드의 모음이므로 내부적으로 필요할 때 객체를 복사 할 수 있도록 장치를 다음과 같은 방식으로 전달해야합니다.\n",
        "\n",
        "자세한 내용은 도움말 (MTCNN)을 참조하십시오."
      ]
    },
    {
      "cell_type": "code",
      "metadata": {
        "id": "J_0oBtEelE3o"
      },
      "source": [
        "mtcnn = MTCNN(\n",
        "    image_size=160, margin=0, min_face_size=20,\n",
        "    thresholds=[0.6, 0.7, 0.7], factor=0.709, post_process=True,\n",
        "    device=device\n",
        ")"
      ],
      "execution_count": 5,
      "outputs": []
    },
    {
      "cell_type": "markdown",
      "metadata": {
        "id": "wWK91vampLrk"
      },
      "source": [
        "## Inception Resnet V1 모듈 정의\n",
        "\n",
        "사전 훈련 된 분류기의 경우 classify = True로 설정합니다. 이 예에서는 모델을 사용하여 임베딩 / CNN 기능을 출력합니다. 추론의 경우 모델을 평가 모드로 설정하는 것이 중요합니다.\n",
        "\n",
        "자세한 내용은 help (InceptionResnetV1)를 참조하세요."
      ]
    },
    {
      "cell_type": "code",
      "metadata": {
        "id": "igT_V0hAmb_V",
        "outputId": "efd1d579-e141-4a18-ee0c-cc97352a66f4",
        "colab": {
          "base_uri": "https://localhost:8080/",
          "height": 67,
          "referenced_widgets": [
            "ce07203703214e32bcd18b5b98102b39",
            "f406060b6e234438931a275da79fbe9d",
            "5ca9574853a24780b4f8f3b6db3eaebf",
            "8b73b0c497d84151b4794f886b510a8e",
            "3e8e4112764247d389cf98e1bf21de2e",
            "cc6c8fef9014419ab898ce05a64438a2",
            "bebece6d382e4e2683821a5dde1d75f2",
            "094dd80fdcd64079a0bddd2981b35665"
          ]
        }
      },
      "source": [
        "resnet = InceptionResnetV1(pretrained='vggface2').eval().to(device)"
      ],
      "execution_count": 6,
      "outputs": [
        {
          "output_type": "display_data",
          "data": {
            "application/vnd.jupyter.widget-view+json": {
              "model_id": "ce07203703214e32bcd18b5b98102b39",
              "version_minor": 0,
              "version_major": 2
            },
            "text/plain": [
              "HBox(children=(FloatProgress(value=0.0, max=111898327.0), HTML(value='')))"
            ]
          },
          "metadata": {
            "tags": []
          }
        },
        {
          "output_type": "stream",
          "text": [
            "\n"
          ],
          "name": "stdout"
        }
      ]
    },
    {
      "cell_type": "markdown",
      "metadata": {
        "id": "3dx0s5cJpXDf"
      },
      "source": [
        "## Define a dataset and data loader"
      ]
    },
    {
      "cell_type": "code",
      "metadata": {
        "id": "hHJgXSqZmgri",
        "outputId": "87e9f88a-b2c7-4035-eb83-69133db65fdd",
        "colab": {
          "base_uri": "https://localhost:8080/",
          "height": 35
        }
      },
      "source": [
        "def collate_fn(x):\n",
        "    return x[0]\n",
        "\n",
        "dataset = datasets.ImageFolder('data/test_images')\n",
        "dataset.idx_to_class = {i:c for c, i in dataset.class_to_idx.items()}\n",
        "print(dataset.idx_to_class)\n",
        "loader = DataLoader(dataset, collate_fn=collate_fn)\n"
      ],
      "execution_count": 19,
      "outputs": [
        {
          "output_type": "stream",
          "text": [
            "{0: 'angelina_jolie', 1: 'bradley_cooper', 2: 'kate_siegel', 3: 'paul_rudd', 4: 'shea_whigham'}\n"
          ],
          "name": "stdout"
        }
      ]
    },
    {
      "cell_type": "code",
      "metadata": {
        "id": "Qo7LqOM9nGwr",
        "outputId": "dd257198-400a-4b0a-e943-aae2be307775",
        "colab": {
          "base_uri": "https://localhost:8080/",
          "height": 107
        }
      },
      "source": [
        "aligned = []\n",
        "names = []\n",
        "for x, y in loader:\n",
        "    x_aligned, prob = mtcnn(x, return_prob=True)\n",
        "    if x_aligned is not None:\n",
        "        print('Face detected with probability: {:8f}'.format(prob))\n",
        "        aligned.append(x_aligned)\n",
        "        names.append(dataset.idx_to_class[y])"
      ],
      "execution_count": 16,
      "outputs": [
        {
          "output_type": "stream",
          "text": [
            "Face detected with probability: 0.999983\n",
            "Face detected with probability: 0.999934\n",
            "Face detected with probability: 0.999733\n",
            "Face detected with probability: 0.999880\n",
            "Face detected with probability: 0.999992\n"
          ],
          "name": "stdout"
        }
      ]
    },
    {
      "cell_type": "markdown",
      "metadata": {
        "id": "Ww7nbAc4ois3"
      },
      "source": [
        "## 이미지 임베딩 계산\n",
        "MTCNN은 모두 같은 크기의 얼굴 이미지를 반환하므로 Resnet 인식 모듈을 사용하여 쉽게 일괄 처리 할 수 있습니다. 여기에서는 이미지가 몇 개 밖에 없기 때문에 단일 배치를 구축하고 이에 대한 추론을 수행합니다.\n",
        "\n",
        "실제 데이터 세트의 경우 특히 GPU에서 처리되는 경우 Resnet으로 전달되는 배치 크기를 제어하도록 코드를 수정해야합니다. 반복 테스트의 경우, 잘린 얼굴 또는 경계 상자의 계산을 한 번 수행하고 나중에 사용할 수 있도록 감지 된 얼굴을 저장할 수 있으므로 임베딩 또는 분류 (InceptionResnetV1 사용)에서 얼굴 감지 (MTCNN 사용)를 분리하는 것이 가장 좋습니다."
      ]
    },
    {
      "cell_type": "code",
      "metadata": {
        "id": "XJEuZU3An9lL"
      },
      "source": [
        "aligned = torch.stack(aligned).to(device)\n",
        "embeddings = resnet(aligned).detach().cpu()"
      ],
      "execution_count": 17,
      "outputs": []
    },
    {
      "cell_type": "markdown",
      "metadata": {
        "id": "lknr7jF-oH8V"
      },
      "source": [
        "## Print distance matrix for classes"
      ]
    },
    {
      "cell_type": "code",
      "metadata": {
        "id": "a76vic99oAMw",
        "outputId": "6e3fe4b7-4815-446c-981b-da545a4ae02f",
        "colab": {
          "base_uri": "https://localhost:8080/",
          "height": 161
        }
      },
      "source": [
        "dists = [[(e1 - e2).norm().item() for e2 in embeddings] for e1 in embeddings]\n",
        "print(pd.DataFrame(dists, columns=names, index=names))"
      ],
      "execution_count": 18,
      "outputs": [
        {
          "output_type": "stream",
          "text": [
            "                angelina_jolie  bradley_cooper  ...  paul_rudd  shea_whigham\n",
            "angelina_jolie        0.000000        1.447480  ...   1.429847      1.399074\n",
            "bradley_cooper        1.447480        0.000000  ...   1.013447      1.038684\n",
            "kate_siegel           0.887728        1.313749  ...   1.388377      1.379655\n",
            "paul_rudd             1.429847        1.013447  ...   0.000000      1.100503\n",
            "shea_whigham          1.399074        1.038684  ...   1.100503      0.000000\n",
            "\n",
            "[5 rows x 5 columns]\n"
          ],
          "name": "stdout"
        }
      ]
    }
  ]
}