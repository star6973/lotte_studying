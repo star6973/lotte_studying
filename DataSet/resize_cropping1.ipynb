{
 "cells": [
  {
   "cell_type": "markdown",
   "metadata": {},
   "source": [
    "## ResNet, DenseNet\n",
    "### 224 x 224"
   ]
  },
  {
   "cell_type": "code",
   "execution_count": 26,
   "metadata": {},
   "outputs": [],
   "source": [
    "from PIL import Image\n",
    "import os\n",
    "import matplotlib.pyplot as plt"
   ]
  },
  {
   "cell_type": "code",
   "execution_count": 27,
   "metadata": {},
   "outputs": [],
   "source": [
    "path_train = os.path.join(os.getcwd(), 'Crop_Data/train')\n",
    "path_val = os.path.join(os.getcwd(), 'Crop_Data/val')\n",
    "path_test = os.path.join(os.getcwd(), 'Crop_Data/test')\n",
    "\n",
    "def make_folder(directory):\n",
    "    if not os.path.isdir(directory):\n",
    "        os.mkdir(directory)\n",
    "\n",
    "path_resize_train = os.path.join(os.getcwd(), 'Resize_Crop_Data_1/train')\n",
    "path_resize_val = os.path.join(os.getcwd(), 'Resize_Crop_Data_1/val')\n",
    "path_resize_test = os.path.join(os.getcwd(), 'Resize_Crop_Data_1/test')\n",
    "\n",
    "make_folder(path_resize_train)\n",
    "make_folder(path_resize_val)\n",
    "make_folder(path_resize_test)"
   ]
  },
  {
   "cell_type": "code",
   "execution_count": 28,
   "metadata": {},
   "outputs": [],
   "source": [
    "label_classes = ['ID_gum', 'buttering', 'couque_coffee', 'chocopie', 'cidar', 'couque_white', 'coke', 'diget_ori', 'diget_choco', 'gumi_gumi', 'homerunball', 'jjolbyung_noodle', 'juicyfresh', 'jjolbyung_ori', 'spearmint', 'squid_peanut', 'samdasu', 'tuna', 'toreta', 'vita500', 'welchs', 'zec']"
   ]
  },
  {
   "cell_type": "code",
   "execution_count": 29,
   "metadata": {},
   "outputs": [
    {
     "name": "stdout",
     "output_type": "stream",
     "text": [
      "{0: 'ID_gum', 1: 'buttering', 2: 'couque_coffee', 3: 'chocopie', 4: 'cidar', 5: 'couque_white', 6: 'coke', 7: 'diget_ori', 8: 'diget_choco', 9: 'gumi_gumi', 10: 'homerunball', 11: 'jjolbyung_noodle', 12: 'juicyfresh', 13: 'jjolbyung_ori', 14: 'spearmint', 15: 'squid_peanut', 16: 'samdasu', 17: 'tuna', 18: 'toreta', 19: 'vita500', 20: 'welchs', 21: 'zec'}\n"
     ]
    }
   ],
   "source": [
    "label_dict = dict()\n",
    "for i, label in enumerate(label_classes):\n",
    "    label_dict[i] = label\n",
    "\n",
    "print(label_dict)"
   ]
  },
  {
   "cell_type": "code",
   "execution_count": 31,
   "metadata": {},
   "outputs": [],
   "source": [
    "for tag in label_dict.keys():\n",
    "    path_resize_train_label = os.path.join(path_resize_train, str(tag))\n",
    "    path_resize_val_label = os.path.join(path_resize_val, str(tag))\n",
    "    make_folder(path_resize_train_label)\n",
    "    make_folder(path_resize_val_label)"
   ]
  },
  {
   "cell_type": "code",
   "execution_count": 32,
   "metadata": {},
   "outputs": [],
   "source": [
    "train_list = os.listdir(path_train)\n",
    "val_list = os.listdir(path_val)\n",
    "test_list = os.listdir(path_test)"
   ]
  },
  {
   "cell_type": "code",
   "execution_count": 33,
   "metadata": {},
   "outputs": [
    {
     "name": "stdout",
     "output_type": "stream",
     "text": [
      "['buttering', 'chocopie', 'cidar', 'coke', 'couque_coffee', 'couque_white', 'diget_choco', 'diget_ori', 'gumi_gumi', 'homerunball', 'ID_gum', 'jjolbyung_noodle', 'jjolbyung_ori', 'juicyfresh', 'samdasu', 'spearmint', 'squid_peanut', 'toreta', 'tuna', 'vita500', 'welchs', 'zec']\n",
      "\n",
      "['buttering', 'chocopie', 'cidar', 'coke', 'couque_coffee', 'couque_white', 'diget_choco', 'diget_ori', 'gumi_gumi', 'homerunball', 'ID_gum', 'jjolbyung_noodle', 'jjolbyung_ori', 'juicyfresh', 'samdasu', 'spearmint', 'squid_peanut', 'toreta', 'tuna', 'vita500', 'welchs', 'zec']\n",
      "\n",
      "['0_cidar.jpg', '1000_couque_white.jpg', '1001_spearmint.jpg', '1002_juicyfresh.jpg', '1003_chocopie.jpg', '1004_couque_white.jpg', '1005_ID_gum.jpg', '1006_juicyfresh.jpg', '1007_couque_white.jpg', '1008_homerunball.jpg']\n"
     ]
    }
   ],
   "source": [
    "print(train_list)\n",
    "print(\"\")\n",
    "print(val_list)\n",
    "print(\"\")\n",
    "print(test_list[:10])"
   ]
  },
  {
   "cell_type": "code",
   "execution_count": 42,
   "metadata": {},
   "outputs": [],
   "source": [
    "for li in train_list:\n",
    "    train_list_dir = os.listdir(os.path.join(path_train, li))\n",
    "    train_list_path = os.path.join(path_train, li)\n",
    "    key = [key for key, value in label_dict.items() if value == li][0]\n",
    "    resize_train_list_path = os.path.join(path_resize_train, str(key))\n",
    "    \n",
    "    for file in train_list_dir:\n",
    "        img = Image.open(os.path.join(train_list_path, file))\n",
    "        re_img = img.resize((224, 224))\n",
    "        re_img.save(os.path.join(resize_train_list_path, file))"
   ]
  },
  {
   "cell_type": "code",
   "execution_count": 43,
   "metadata": {},
   "outputs": [],
   "source": [
    "for li in val_list:\n",
    "    val_list_dir = os.listdir(os.path.join(path_val, li))\n",
    "    val_list_path = os.path.join(path_val, li)\n",
    "    key = [key for key, value in label_dict.items() if value == li][0]\n",
    "    resize_val_list_path = os.path.join(path_resize_val, str(key))\n",
    "    \n",
    "    for file in val_list_dir:\n",
    "        img = Image.open(os.path.join(val_list_path, file))\n",
    "        re_img = img.resize((224, 224))\n",
    "        re_img.save(os.path.join(resize_val_list_path, file))"
   ]
  },
  {
   "cell_type": "code",
   "execution_count": 44,
   "metadata": {},
   "outputs": [],
   "source": [
    "for file in test_list:\n",
    "    test_list_path = os.path.join(path_test, file)\n",
    "    img = Image.open(test_list_path)\n",
    "    re_img = img.resize((224, 224))\n",
    "    re_img.save(os.path.join(path_resize_test, file))"
   ]
  }
 ],
 "metadata": {
  "kernelspec": {
   "display_name": "Python 3",
   "language": "python",
   "name": "python3"
  },
  "language_info": {
   "codemirror_mode": {
    "name": "ipython",
    "version": 3
   },
   "file_extension": ".py",
   "mimetype": "text/x-python",
   "name": "python",
   "nbconvert_exporter": "python",
   "pygments_lexer": "ipython3",
   "version": "3.6.10"
  }
 },
 "nbformat": 4,
 "nbformat_minor": 4
}
