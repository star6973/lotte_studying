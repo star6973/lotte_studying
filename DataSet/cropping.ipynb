{
 "cells": [
  {
   "cell_type": "code",
   "execution_count": 11,
   "metadata": {},
   "outputs": [],
   "source": [
    "from PIL import Image\n",
    "import torch\n",
    "import os\n",
    "from torchvision.datasets import ImageFolder\n",
    "import matplotlib.pyplot as plt\n",
    "import numpy as np\n",
    "import pandas as pd"
   ]
  },
  {
   "cell_type": "code",
   "execution_count": 29,
   "metadata": {},
   "outputs": [],
   "source": [
    "image_csv = pd.read_csv(\"Origin_Data/csv_mh/mh.csv\")"
   ]
  },
  {
   "cell_type": "code",
   "execution_count": 30,
   "metadata": {},
   "outputs": [
    {
     "data": {
      "text/html": [
       "<div>\n",
       "<style scoped>\n",
       "    .dataframe tbody tr th:only-of-type {\n",
       "        vertical-align: middle;\n",
       "    }\n",
       "\n",
       "    .dataframe tbody tr th {\n",
       "        vertical-align: top;\n",
       "    }\n",
       "\n",
       "    .dataframe thead th {\n",
       "        text-align: right;\n",
       "    }\n",
       "</style>\n",
       "<table border=\"1\" class=\"dataframe\">\n",
       "  <thead>\n",
       "    <tr style=\"text-align: right;\">\n",
       "      <th></th>\n",
       "      <th>image</th>\n",
       "      <th>xmin</th>\n",
       "      <th>ymin</th>\n",
       "      <th>xmax</th>\n",
       "      <th>ymax</th>\n",
       "      <th>label</th>\n",
       "    </tr>\n",
       "  </thead>\n",
       "  <tbody>\n",
       "    <tr>\n",
       "      <th>0</th>\n",
       "      <td>01503.jpg</td>\n",
       "      <td>4.155642</td>\n",
       "      <td>5.975104</td>\n",
       "      <td>500.217899</td>\n",
       "      <td>670.207469</td>\n",
       "      <td>squid_peanut</td>\n",
       "    </tr>\n",
       "    <tr>\n",
       "      <th>1</th>\n",
       "      <td>01503.jpg</td>\n",
       "      <td>454.396887</td>\n",
       "      <td>83.153527</td>\n",
       "      <td>855.657588</td>\n",
       "      <td>351.535270</td>\n",
       "      <td>cidar</td>\n",
       "    </tr>\n",
       "    <tr>\n",
       "      <th>2</th>\n",
       "      <td>01503.jpg</td>\n",
       "      <td>332.700389</td>\n",
       "      <td>328.630705</td>\n",
       "      <td>573.929961</td>\n",
       "      <td>699.087137</td>\n",
       "      <td>coke</td>\n",
       "    </tr>\n",
       "    <tr>\n",
       "      <th>3</th>\n",
       "      <td>01503.jpg</td>\n",
       "      <td>651.455253</td>\n",
       "      <td>234.024896</td>\n",
       "      <td>957.517510</td>\n",
       "      <td>594.522822</td>\n",
       "      <td>diget_choco</td>\n",
       "    </tr>\n",
       "    <tr>\n",
       "      <th>4</th>\n",
       "      <td>01503.jpg</td>\n",
       "      <td>736.124514</td>\n",
       "      <td>231.037344</td>\n",
       "      <td>1242.147860</td>\n",
       "      <td>868.381743</td>\n",
       "      <td>homerunball</td>\n",
       "    </tr>\n",
       "  </tbody>\n",
       "</table>\n",
       "</div>"
      ],
      "text/plain": [
       "       image        xmin        ymin         xmax        ymax         label\n",
       "0  01503.jpg    4.155642    5.975104   500.217899  670.207469  squid_peanut\n",
       "1  01503.jpg  454.396887   83.153527   855.657588  351.535270         cidar\n",
       "2  01503.jpg  332.700389  328.630705   573.929961  699.087137          coke\n",
       "3  01503.jpg  651.455253  234.024896   957.517510  594.522822   diget_choco\n",
       "4  01503.jpg  736.124514  231.037344  1242.147860  868.381743   homerunball"
      ]
     },
     "execution_count": 30,
     "metadata": {},
     "output_type": "execute_result"
    }
   ],
   "source": [
    "image_csv.head()"
   ]
  },
  {
   "cell_type": "code",
   "execution_count": 33,
   "metadata": {},
   "outputs": [
    {
     "name": "stdout",
     "output_type": "stream",
     "text": [
      "['ID_gum', 'buttering', 'cidar', 'coke', 'couque_white', 'chocopie', 'couque_coffee', 'diget_choco', 'diget_ori', 'gumi_gumi', 'homerunball', 'jjolbyung_ori', 'juicyfresh', 'jjolbyung_noodle', 'squid_peanut', 'samdasu', 'spearmint', 'toreta', 'tuna', 'vita500', 'welchs', 'zec']\n"
     ]
    }
   ],
   "source": [
    "label_class = sorted(image_csv['label'].unique(), key=lambda x: x[0])\n",
    "print(label_class)"
   ]
  },
  {
   "cell_type": "code",
   "execution_count": 34,
   "metadata": {},
   "outputs": [],
   "source": [
    "def make_folder(directory):\n",
    "    if not os.path.isdir(directory):\n",
    "        os.mkdir(directory)\n",
    "\n",
    "dir_path = os.path.join(os.getcwd(), 'Crop_Data/')\n",
    "for tag in label_class:\n",
    "    make_folder(os.path.join(dir_path, tag))"
   ]
  },
  {
   "cell_type": "code",
   "execution_count": 49,
   "metadata": {},
   "outputs": [],
   "source": [
    "data_path = os.path.join(os.getcwd(), 'Origin_Data\\\\csv_mh\\\\temp\\\\')\n",
    "crop_path = os.path.join(os.getcwd(), 'Crop_Data\\\\')\n",
    "\n",
    "for data in image_csv.values:\n",
    "    name, xmin, ymin, xmax, ymax, label = data[0], data[1], data[2], data[3], data[4], data[5]\n",
    "    area = (xmin, ymin, xmax, ymax)\n",
    "    \n",
    "    img = Image.open(os.path.join(data_dir, name))\n",
    "    cropped_img = img.crop(area)\n",
    "    \n",
    "    label_tag = label + '_' + name.split('.')[0]\n",
    "    label_path = label + '\\\\'\n",
    "    crop_label_path = os.path.join(crop_path, label_path)\n",
    "    cropped_img.save(os.path.join(crop_label_path, label_tag + '.jpg'))"
   ]
  }
 ],
 "metadata": {
  "kernelspec": {
   "display_name": "Python 3",
   "language": "python",
   "name": "python3"
  },
  "language_info": {
   "codemirror_mode": {
    "name": "ipython",
    "version": 3
   },
   "file_extension": ".py",
   "mimetype": "text/x-python",
   "name": "python",
   "nbconvert_exporter": "python",
   "pygments_lexer": "ipython3",
   "version": "3.6.10"
  }
 },
 "nbformat": 4,
 "nbformat_minor": 4
}
