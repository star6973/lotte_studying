{
 "cells": [
  {
   "cell_type": "code",
   "execution_count": 30,
   "metadata": {},
   "outputs": [],
   "source": [
    "import os\n",
    "import sys\n",
    "import pandas as pd\n",
    "from os import rename\n",
    "\n",
    "cnt = 0\n",
    "for teamName in ['hh', 'ih', 'jw', 'mh']:\n",
    "    dataset_path = \"./Origin Data/csv_\" + teamName + \"/\"\n",
    "    \n",
    "    img_root, _, img_files = next(os.walk(dataset_path))\n",
    "    export_csv = pd.read_csv(dataset_path + img_files[0])\n",
    "\n",
    "    # csv 파일 이미지 파일명 변경\n",
    "    unique_filename = set(export_csv['image'])\n",
    "    unique_filename_dict = dict()\n",
    "\n",
    "    for name in export_csv['image']:\n",
    "        if name not in unique_filename_dict.keys():\n",
    "            unique_filename_dict[name] = '{0:05d}'.format(cnt) + '.jpg'\n",
    "            cnt += 1\n",
    "                \n",
    "    for i in range(len(export_csv)):\n",
    "        name = export_csv.loc[i][\"image\"]\n",
    "        if name in unique_filename_dict.keys():\n",
    "            export_csv.loc[i, \"image\"] = unique_filename_dict[name]\n",
    "    \n",
    "    export_csv.to_csv(img_root + \"temp/\" + teamName + \".csv\", index=False)\n",
    "    \n",
    "    # 이미지 파일명 변경\n",
    "    for file in img_files[1:]:\n",
    "        if file in unique_filename_dict.keys():\n",
    "            rename(img_root + file, img_root + \"temp/\" + file.replace(file, unique_filename_dict[file]))"
   ]
  },
  {
   "cell_type": "code",
   "execution_count": null,
   "metadata": {},
   "outputs": [],
   "source": []
  }
 ],
 "metadata": {
  "kernelspec": {
   "display_name": "Python 3",
   "language": "python",
   "name": "python3"
  },
  "language_info": {
   "codemirror_mode": {
    "name": "ipython",
    "version": 3
   },
   "file_extension": ".py",
   "mimetype": "text/x-python",
   "name": "python",
   "nbconvert_exporter": "python",
   "pygments_lexer": "ipython3",
   "version": "3.6.10"
  }
 },
 "nbformat": 4,
 "nbformat_minor": 4
}
